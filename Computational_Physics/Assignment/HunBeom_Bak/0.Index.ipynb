{
 "cells": [
  {
   "cell_type": "code",
   "execution_count": 1,
   "metadata": {},
   "outputs": [
    {
     "name": "stdout",
     "output_type": "stream",
     "text": [
      "반갑습니다.\n"
     ]
    }
   ],
   "source": [
    "print(\"반갑습니다.\")"
   ]
  },
  {
   "cell_type": "markdown",
   "metadata": {},
   "source": [
    "# 야매로 배우는 파이썬\n",
    "\n",
    "전산물리학을 파이썬으로 공부하다가, 자료가 없길래 답답해서 만들어봅니다.\n",
    "\n",
    "오타 및 문의사항은 h2hb0307@gmail.com으로 보내주세요"
   ]
  },
  {
   "cell_type": "markdown",
   "metadata": {},
   "source": [
    "# 목차\n",
    "\n",
    "### 1.기본적인 파이썬언어\n",
    "1. 왜 파이썬인가\n",
    "2. anaconda설치\n",
    "3. IDE 소개\n",
    "4. 기본적인 문법 몇가지\n",
    "\n",
    "### 2.NUMPY\n",
    "1. 파일불러오기(loadtxt)\n",
    "2. 행렬\n",
    "3. 방정식 풀기\n",
    "4. 고유값 & 고유벡터\n",
    "5. 역행렬\n",
    "\n",
    "### 3.MATPLOTLIB\n",
    "1. 그래프 그리기\n",
    "2. 애니메이션 그래프\n",
    "3. 3D 그래프\n",
    "\n",
    "### 4.Sympy\n",
    "1. 방정식 \n",
    "2. 미분\n",
    "3. 적분\n",
    "\n",
    "### 5.미분방정식\n",
    "\n",
    "### 6.CHAOS\n",
    "\n",
    "### 7.Monte Carlo Techniques \n",
    "\n",
    "### 8.Stochastic Methods\n",
    "1. 랜덤워크,\n",
    "2. 확산과 엔트로피\n",
    "\n",
    "### 9.PDE\n",
    "1. 파동함수, \n",
    "2. 슈뢰딩거 방정식\n",
    "\n",
    "## 부록\n",
    "\n",
    "a. 파이썬에서 gpu 사용하는법\n",
    "1. PyCUDA\n",
    "\n",
    "b. Panda library\n",
    "\n",
    "c. 파이게임으로 물리학 구현"
   ]
  },
  {
   "cell_type": "code",
   "execution_count": null,
   "metadata": {
    "collapsed": true
   },
   "outputs": [],
   "source": []
  }
 ],
 "metadata": {
  "kernelspec": {
   "display_name": "Python 3",
   "language": "python",
   "name": "python3"
  },
  "language_info": {
   "codemirror_mode": {
    "name": "ipython",
    "version": 3
   },
   "file_extension": ".py",
   "mimetype": "text/x-python",
   "name": "python",
   "nbconvert_exporter": "python",
   "pygments_lexer": "ipython3",
   "version": "3.6.3"
  }
 },
 "nbformat": 4,
 "nbformat_minor": 2
}
